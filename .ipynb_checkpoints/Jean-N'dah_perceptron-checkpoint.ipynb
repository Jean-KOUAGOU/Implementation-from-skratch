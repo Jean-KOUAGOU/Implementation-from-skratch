{
 "cells": [
  {
   "cell_type": "code",
   "execution_count": 1,
   "metadata": {},
   "outputs": [],
   "source": [
    "import random as rd\n",
    "import numpy as np\n",
    "import seaborn as sn\n",
    "import pandas as pd\n",
    "import matplotlib.pyplot as plt"
   ]
  },
  {
   "cell_type": "code",
   "execution_count": 2,
   "metadata": {},
   "outputs": [],
   "source": [
    "mu1 = -1\n",
    "mu2 = 3\n",
    "sig1 = 0.5\n",
    "sig2 = 1\n",
    "N = 100\n",
    "np.random.seed(10)\n",
    "x11=np.random.randn(N,1)*sig1 + mu1\n",
    "x12=np.random.randn(N,1)*sig1 + mu1+3\n",
    "x21=np.random.randn(N,1)*sig2 + mu2\n",
    "x22=np.random.randn(N,1)*sig2 + mu2+3\n",
    "c = np.vstack((-np.ones((N,1)), np.ones((N,1))))\n",
    "x1 = np.hstack((x11,x12))\n",
    "x2 = np.hstack((x21,x22))\n",
    "\n",
    "X = np.hstack( (np.vstack( (x1,x2) ),c) )\n",
    "np.random.shuffle(X)\n",
    "dataset = pd.DataFrame(data=X, columns=['x','y','c'])\n",
    "\n",
    "\n",
    "## Pseudo code used: pseudo code in class \n"
   ]
  },
  {
   "cell_type": "code",
   "execution_count": 3,
   "metadata": {},
   "outputs": [
    {
     "data": {
      "text/html": [
       "<div>\n",
       "<style scoped>\n",
       "    .dataframe tbody tr th:only-of-type {\n",
       "        vertical-align: middle;\n",
       "    }\n",
       "\n",
       "    .dataframe tbody tr th {\n",
       "        vertical-align: top;\n",
       "    }\n",
       "\n",
       "    .dataframe thead th {\n",
       "        text-align: right;\n",
       "    }\n",
       "</style>\n",
       "<table border=\"1\" class=\"dataframe\">\n",
       "  <thead>\n",
       "    <tr style=\"text-align: right;\">\n",
       "      <th></th>\n",
       "      <th>x</th>\n",
       "      <th>y</th>\n",
       "      <th>c</th>\n",
       "    </tr>\n",
       "  </thead>\n",
       "  <tbody>\n",
       "    <tr>\n",
       "      <th>0</th>\n",
       "      <td>-0.334207</td>\n",
       "      <td>2.058738</td>\n",
       "      <td>-1.0</td>\n",
       "    </tr>\n",
       "    <tr>\n",
       "      <th>1</th>\n",
       "      <td>3.264395</td>\n",
       "      <td>5.636814</td>\n",
       "      <td>1.0</td>\n",
       "    </tr>\n",
       "    <tr>\n",
       "      <th>2</th>\n",
       "      <td>-0.669884</td>\n",
       "      <td>1.856185</td>\n",
       "      <td>-1.0</td>\n",
       "    </tr>\n",
       "    <tr>\n",
       "      <th>3</th>\n",
       "      <td>1.995284</td>\n",
       "      <td>4.484924</td>\n",
       "      <td>1.0</td>\n",
       "    </tr>\n",
       "    <tr>\n",
       "      <th>4</th>\n",
       "      <td>3.588041</td>\n",
       "      <td>4.739172</td>\n",
       "      <td>1.0</td>\n",
       "    </tr>\n",
       "  </tbody>\n",
       "</table>\n",
       "</div>"
      ],
      "text/plain": [
       "          x         y    c\n",
       "0 -0.334207  2.058738 -1.0\n",
       "1  3.264395  5.636814  1.0\n",
       "2 -0.669884  1.856185 -1.0\n",
       "3  1.995284  4.484924  1.0\n",
       "4  3.588041  4.739172  1.0"
      ]
     },
     "execution_count": 3,
     "metadata": {},
     "output_type": "execute_result"
    }
   ],
   "source": [
    "dataset.head()"
   ]
  },
  {
   "cell_type": "code",
   "execution_count": 13,
   "metadata": {},
   "outputs": [],
   "source": [
    "Dataset=dataset.drop('c', axis=1)"
   ]
  },
  {
   "cell_type": "code",
   "execution_count": 14,
   "metadata": {},
   "outputs": [],
   "source": [
    "Dataset.insert(0,'const',np.ones_like(Dataset['x']))"
   ]
  },
  {
   "cell_type": "code",
   "execution_count": 15,
   "metadata": {},
   "outputs": [
    {
     "data": {
      "text/html": [
       "<div>\n",
       "<style scoped>\n",
       "    .dataframe tbody tr th:only-of-type {\n",
       "        vertical-align: middle;\n",
       "    }\n",
       "\n",
       "    .dataframe tbody tr th {\n",
       "        vertical-align: top;\n",
       "    }\n",
       "\n",
       "    .dataframe thead th {\n",
       "        text-align: right;\n",
       "    }\n",
       "</style>\n",
       "<table border=\"1\" class=\"dataframe\">\n",
       "  <thead>\n",
       "    <tr style=\"text-align: right;\">\n",
       "      <th></th>\n",
       "      <th>const</th>\n",
       "      <th>x</th>\n",
       "      <th>y</th>\n",
       "    </tr>\n",
       "  </thead>\n",
       "  <tbody>\n",
       "    <tr>\n",
       "      <th>0</th>\n",
       "      <td>1.0</td>\n",
       "      <td>-0.334207</td>\n",
       "      <td>2.058738</td>\n",
       "    </tr>\n",
       "    <tr>\n",
       "      <th>1</th>\n",
       "      <td>1.0</td>\n",
       "      <td>3.264395</td>\n",
       "      <td>5.636814</td>\n",
       "    </tr>\n",
       "    <tr>\n",
       "      <th>2</th>\n",
       "      <td>1.0</td>\n",
       "      <td>-0.669884</td>\n",
       "      <td>1.856185</td>\n",
       "    </tr>\n",
       "    <tr>\n",
       "      <th>3</th>\n",
       "      <td>1.0</td>\n",
       "      <td>1.995284</td>\n",
       "      <td>4.484924</td>\n",
       "    </tr>\n",
       "    <tr>\n",
       "      <th>4</th>\n",
       "      <td>1.0</td>\n",
       "      <td>3.588041</td>\n",
       "      <td>4.739172</td>\n",
       "    </tr>\n",
       "  </tbody>\n",
       "</table>\n",
       "</div>"
      ],
      "text/plain": [
       "   const         x         y\n",
       "0    1.0 -0.334207  2.058738\n",
       "1    1.0  3.264395  5.636814\n",
       "2    1.0 -0.669884  1.856185\n",
       "3    1.0  1.995284  4.484924\n",
       "4    1.0  3.588041  4.739172"
      ]
     },
     "execution_count": 15,
     "metadata": {},
     "output_type": "execute_result"
    }
   ],
   "source": [
    "Dataset.head()"
   ]
  },
  {
   "cell_type": "code",
   "execution_count": 4,
   "metadata": {},
   "outputs": [],
   "source": [
    "def get_gradient(vectors,coeffs):\n",
    "    '''This function computes the gradient of the loss function in the predictions'''\n",
    "    return -sum([coeffs[i]*vectors[i] for i in range(len(coeffs))]) #This is the formula for the gredient of \n",
    "#the loss function\n",
    "\n",
    "def new_w(data,w,true_val):\n",
    "    '''This function uses the gradient given by the above get_gredient function\n",
    "    to update the parameter w until we reach the desired level of accuracy in our\n",
    "    predictions'''\n",
    "    alpha=0.001 # Learning rate used to search for the optimal w\n",
    "    y_hat=[] # Initializing the list to contain the predictions at each value of w \n",
    "    for i in range(data.shape[0]): # Loop for computing the predictions\n",
    "        y_hat.append(np.sign(w.dot(np.array(data.iloc[i,:])))) \n",
    "    Misclassified_indices=[] # Initializing the list to contain the indices of the misclassified data points\n",
    "    for i in range(len(y_hat)):\n",
    "        if y_hat[i]!=true_val[i]: # We go through the predicted values and the true values to collect the \n",
    "            #indices of the misclassified points\n",
    "            Misclassified_indices.append(i)\n",
    "    if len(Misclassified_indices)>0: #If there are misclassified points, then we compute the gradient and update w\n",
    "        gradient=get_gradient(np.array([data.iloc[j,:] for j in Misclassified_indices]),np.array([true_val[j] for j in Misclassified_indices]))\n",
    "    else:\n",
    "        gradient=np.zeros_like(data.iloc[0,:])\n",
    "    w=w-alpha*gradient \n",
    "    print(\"gradient: {} and number of misclassified: {}\".format(gradient,len(Misclassified_indices))) #We print this \n",
    "    # to track the progression of the classifications. The desired stopping point is when there are no misclassified\n",
    "    #points but it can come that we stop the process when the maximal number of iterations we fixed is exceeded\n",
    "    return w\n",
    "\n",
    "def find_optimal_w(data,w,true_val,tolerance):\n",
    "    num_iter=0\n",
    "    old_w=w\n",
    "    w=new_w(data,w,true_val)\n",
    "    while(np.linalg.norm(w-old_w)>tolerance and num_iter<max_iter):\n",
    "        old_w=w\n",
    "        w=new_w(data,w,true_val)\n",
    "        num_iter += 1\n",
    "    return w"
   ]
  },
  {
   "cell_type": "markdown",
   "metadata": {},
   "source": [
    "## The following plot is for a good guess of w, and requires 0 iteration."
   ]
  },
  {
   "cell_type": "code",
   "execution_count": 25,
   "metadata": {},
   "outputs": [
    {
     "name": "stdout",
     "output_type": "stream",
     "text": [
      "gradient: [0. 0. 0.] and number of misclassified: 0\n",
      "Final w: [-3.5  2.   0.5]\n"
     ]
    }
   ],
   "source": [
    "w=np.array([-3.5,2,0.5]) # Guess of w, a good one actually\n",
    "tolerance=1e-20 # The tolerance we choose to stop the iterations\n",
    "w=find_optimal_w(Dataset,w,dataset['c'],tolerance) # Computing w\n",
    "\n",
    "print(\"Final w: {}\".format(w)) # Diplaying w"
   ]
  },
  {
   "cell_type": "code",
   "execution_count": 18,
   "metadata": {},
   "outputs": [],
   "source": [
    "def plot_the_line(w,x):\n",
    "    return (-w[0q]/w[2])-(w[1]/w[2])*x"
   ]
  },
  {
   "cell_type": "code",
   "execution_count": 26,
   "metadata": {},
   "outputs": [
    {
     "data": {
      "image/png": "[encoded data removed]",
      "text/plain": [
       "<Figure size 432x288 with 1 Axes>"
      ]
     },
     "metadata": {
      "needs_background": "light"
     },
     "output_type": "display_data"
    }
   ],
   "source": [
    "x=np.linspace(-3,6)\n",
    "sn.scatterplot(Dataset['x'],Dataset['y'], s=40)\n",
    "plt.plot(x,plot_the_line(w,x), color='red')\n",
    "plt.xlim(-2.5,5.5)\n",
    "plt.ylim(-0,11)\n",
    "plt.show()"
   ]
  },
  {
   "cell_type": "markdown",
   "metadata": {},
   "source": [
    "## Here we give an example where the classification process takes time, that is when our guess of w is not good enough"
   ]
  },
  {
   "cell_type": "code",
   "execution_count": 27,
   "metadata": {},
   "outputs": [
    {
     "name": "stdout",
     "output_type": "stream",
     "text": [
      "gradient: [-100.         -297.60944397 -607.95909262] and number of misclassified: 100\n",
      "gradient: [ -98.         -289.16168955 -599.04625125] and number of misclassified: 98\n",
      "gradient: [ -74.         -195.97776585 -464.62534106] and number of misclassified: 74\n",
      "gradient: [ -39.         -83.9324226 -250.9803609] and number of misclassified: 39\n",
      "gradient: [ -27.          -50.11820261 -174.58760111] and number of misclassified: 27\n",
      "gradient: [ -23.          -41.57177415 -151.11444982] and number of misclassified: 23\n",
      "gradient: [-12.         -19.02708566 -83.04337313] and number of misclassified: 12\n",
      "gradient: [ -9.         -12.03314161 -59.32677874] and number of misclassified: 9\n",
      "gradient: [ -7.          -8.25778369 -45.44901354] and number of misclassified: 7\n",
      "gradient: [ -7.          -8.25778369 -45.44901354] and number of misclassified: 7\n",
      "gradient: [ -7.          -8.25778369 -45.44901354] and number of misclassified: 7\n",
      "gradient: [ -6.          -6.80508908 -39.38469414] and number of misclassified: 6\n",
      "gradient: [ -6.          -6.80508908 -39.38469414] and number of misclassified: 6\n",
      "gradient: [ -6.          -6.80508908 -39.38469414] and number of misclassified: 6\n",
      "gradient: [ -3.          -2.64540965 -19.42225009] and number of misclassified: 3\n",
      "gradient: [ -3.          -2.64540965 -19.42225009] and number of misclassified: 3\n",
      "gradient: [ -3.          -2.64540965 -19.42225009] and number of misclassified: 3\n",
      "gradient: [ -3.          -2.64540965 -19.42225009] and number of misclassified: 3\n",
      "gradient: [ -3.          -2.64540965 -19.42225009] and number of misclassified: 3\n",
      "gradient: [ -3.          -2.64540965 -19.42225009] and number of misclassified: 3\n",
      "gradient: [ -3.          -2.64540965 -19.42225009] and number of misclassified: 3\n",
      "gradient: [ -3.          -2.64540965 -19.42225009] and number of misclassified: 3\n",
      "gradient: [ -2.          -1.58670933 -13.07277369] and number of misclassified: 2\n",
      "gradient: [ -2.          -1.58670933 -13.07277369] and number of misclassified: 2\n",
      "gradient: [ -2.          -1.58670933 -13.07277369] and number of misclassified: 2\n",
      "gradient: [ -2.          -1.58670933 -13.07277369] and number of misclassified: 2\n",
      "gradient: [ -2.          -1.58670933 -13.07277369] and number of misclassified: 2\n",
      "gradient: [ -2.          -1.58670933 -13.07277369] and number of misclassified: 2\n",
      "gradient: [ -2.          -1.58670933 -13.07277369] and number of misclassified: 2\n",
      "gradient: [ -2.          -1.58670933 -13.07277369] and number of misclassified: 2\n",
      "gradient: [ -2.          -1.58670933 -13.07277369] and number of misclassified: 2\n",
      "gradient: [ -2.          -1.58670933 -13.07277369] and number of misclassified: 2\n",
      "gradient: [-1.         -0.60442799 -5.91608476] and number of misclassified: 1\n",
      "gradient: [-1.         -0.60442799 -5.91608476] and number of misclassified: 1\n",
      "gradient: [-1.         -0.60442799 -5.91608476] and number of misclassified: 1\n",
      "gradient: [-1.         -0.60442799 -5.91608476] and number of misclassified: 1\n",
      "gradient: [-1.         -0.60442799 -5.91608476] and number of misclassified: 1\n",
      "gradient: [-1.         -0.60442799 -5.91608476] and number of misclassified: 1\n",
      "gradient: [-1.         -0.60442799 -5.91608476] and number of misclassified: 1\n",
      "gradient: [-1.         -0.60442799 -5.91608476] and number of misclassified: 1\n",
      "gradient: [-1.         -0.60442799 -5.91608476] and number of misclassified: 1\n",
      "gradient: [-0.         -0.37060246 -4.0465145 ] and number of misclassified: 2\n",
      "gradient: [-0.         -0.37060246 -4.0465145 ] and number of misclassified: 2\n",
      "gradient: [-0.         -0.37060246 -4.0465145 ] and number of misclassified: 2\n",
      "gradient: [-0.         -0.37060246 -4.0465145 ] and number of misclassified: 2\n",
      "gradient: [-0.         -0.37060246 -4.0465145 ] and number of misclassified: 2\n",
      "gradient: [ 1.         -0.17325063 -2.40005022] and number of misclassified: 3\n",
      "gradient: [ 1.         -0.17325063 -2.40005022] and number of misclassified: 3\n",
      "gradient: [ 1.         -0.17325063 -2.40005022] and number of misclassified: 3\n",
      "gradient: [ 1.         -0.17325063 -2.40005022] and number of misclassified: 3\n",
      "gradient: [ 1.         -0.17325063 -2.40005022] and number of misclassified: 3\n",
      "gradient: [ 1.         -0.17325063 -2.40005022] and number of misclassified: 3\n",
      "gradient: [ 1.         -0.17325063 -2.40005022] and number of misclassified: 3\n",
      "gradient: [ 1.         -0.17325063 -2.40005022] and number of misclassified: 3\n",
      "gradient: [ 1.         -0.17325063 -2.40005022] and number of misclassified: 3\n",
      "gradient: [ 1.         -0.17325063 -2.40005022] and number of misclassified: 3\n",
      "gradient: [ 1.         -0.17325063 -2.40005022] and number of misclassified: 3\n",
      "gradient: [ 1.         -0.17325063 -2.40005022] and number of misclassified: 3\n",
      "gradient: [ 1.         -0.17325063 -2.40005022] and number of misclassified: 3\n",
      "gradient: [ 1.         -0.17325063 -2.40005022] and number of misclassified: 3\n",
      "gradient: [ 1.         -0.17325063 -2.40005022] and number of misclassified: 3\n",
      "gradient: [ 1.         -0.17325063 -2.40005022] and number of misclassified: 3\n",
      "gradient: [ 1.         -0.17325063 -2.40005022] and number of misclassified: 3\n",
      "gradient: [ 1.         -0.17325063 -2.40005022] and number of misclassified: 3\n",
      "gradient: [ 1.         -0.17325063 -2.40005022] and number of misclassified: 3\n",
      "gradient: [ 1.         -0.17325063 -2.40005022] and number of misclassified: 3\n",
      "gradient: [ 1.         -0.17325063 -2.40005022] and number of misclassified: 3\n",
      "gradient: [ 1.         -0.17325063 -2.40005022] and number of misclassified: 3\n",
      "gradient: [ 1.         -0.17325063 -2.40005022] and number of misclassified: 3\n",
      "gradient: [ 1.         -0.17325063 -2.40005022] and number of misclassified: 3\n",
      "gradient: [ 1.         -0.17325063 -2.40005022] and number of misclassified: 3\n",
      "gradient: [ 1.         -0.17325063 -2.40005022] and number of misclassified: 3\n",
      "gradient: [ 1.         -0.17325063 -2.40005022] and number of misclassified: 3\n",
      "gradient: [ 1.         -0.17325063 -2.40005022] and number of misclassified: 3\n",
      "gradient: [2.         0.43117736 3.51603454] and number of misclassified: 2\n",
      "gradient: [ 1.         -0.17325063 -2.40005022] and number of misclassified: 3\n",
      "gradient: [ 1.         -0.17325063 -2.40005022] and number of misclassified: 3\n",
      "gradient: [2.         0.43117736 3.51603454] and number of misclassified: 2\n",
      "gradient: [ 1.         -0.17325063 -2.40005022] and number of misclassified: 3\n",
      "gradient: [ 1.         -0.17325063 -2.40005022] and number of misclassified: 3\n",
      "gradient: [2.         0.43117736 3.51603454] and number of misclassified: 2\n",
      "gradient: [ 1.         -0.17325063 -2.40005022] and number of misclassified: 3\n",
      "gradient: [2.         0.43117736 3.51603454] and number of misclassified: 2\n",
      "gradient: [ 1.         -0.17325063 -2.40005022] and number of misclassified: 3\n",
      "gradient: [ 1.         -0.17325063 -2.40005022] and number of misclassified: 3\n",
      "gradient: [2.         0.43117736 3.51603454] and number of misclassified: 2\n",
      "gradient: [ 1.         -0.17325063 -2.40005022] and number of misclassified: 3\n",
      "gradient: [ 1.         -0.17325063 -2.40005022] and number of misclassified: 3\n",
      "gradient: [2.         0.43117736 3.51603454] and number of misclassified: 2\n",
      "gradient: [ 1.         -0.17325063 -2.40005022] and number of misclassified: 3\n",
      "gradient: [ 1.         -0.17325063 -2.40005022] and number of misclassified: 3\n",
      "gradient: [2.         0.43117736 3.51603454] and number of misclassified: 2\n",
      "gradient: [ 1.         -0.17325063 -2.40005022] and number of misclassified: 3\n",
      "gradient: [2.         0.43117736 3.51603454] and number of misclassified: 2\n",
      "gradient: [ 1.         -0.17325063 -2.40005022] and number of misclassified: 3\n",
      "gradient: [ 1.         -0.17325063 -2.40005022] and number of misclassified: 3\n",
      "gradient: [2.         0.43117736 3.51603454] and number of misclassified: 2\n",
      "gradient: [ 1.         -0.17325063 -2.40005022] and number of misclassified: 3\n",
      "gradient: [ 1.         -0.17325063 -2.40005022] and number of misclassified: 3\n",
      "gradient: [2.         0.43117736 3.51603454] and number of misclassified: 2\n",
      "gradient: [ 1.         -0.17325063 -2.40005022] and number of misclassified: 3\n",
      "gradient: [ 1.         -0.17325063 -2.40005022] and number of misclassified: 3\n",
      "gradient: [2.         0.43117736 3.51603454] and number of misclassified: 2\n",
      "gradient: [ 1.         -0.17325063 -2.40005022] and number of misclassified: 3\n",
      "gradient: [2.         0.43117736 3.51603454] and number of misclassified: 2\n",
      "gradient: [ 1.         -0.17325063 -2.40005022] and number of misclassified: 3\n",
      "gradient: [ 1.         -0.17325063 -2.40005022] and number of misclassified: 3\n",
      "gradient: [2.         0.43117736 3.51603454] and number of misclassified: 2\n",
      "gradient: [ 1.         -0.17325063 -2.40005022] and number of misclassified: 3\n",
      "gradient: [ 1.         -0.17325063 -2.40005022] and number of misclassified: 3\n"
     ]
    },
    {
     "name": "stdout",
     "output_type": "stream",
     "text": [
      "gradient: [2.         0.43117736 3.51603454] and number of misclassified: 2\n",
      "gradient: [ 1.         -0.17325063 -2.40005022] and number of misclassified: 3\n",
      "gradient: [ 1.         -0.17325063 -2.40005022] and number of misclassified: 3\n",
      "gradient: [2.         0.43117736 3.51603454] and number of misclassified: 2\n",
      "gradient: [ 1.         -0.17325063 -2.40005022] and number of misclassified: 3\n",
      "gradient: [2.         0.43117736 3.51603454] and number of misclassified: 2\n",
      "gradient: [ 1.         -0.17325063 -2.40005022] and number of misclassified: 3\n",
      "gradient: [ 1.         -0.17325063 -2.40005022] and number of misclassified: 3\n",
      "gradient: [2.         0.43117736 3.51603454] and number of misclassified: 2\n",
      "gradient: [ 1.         -0.17325063 -2.40005022] and number of misclassified: 3\n",
      "gradient: [ 1.         -0.17325063 -2.40005022] and number of misclassified: 3\n",
      "gradient: [2.         0.43117736 3.51603454] and number of misclassified: 2\n",
      "gradient: [ 1.         -0.17325063 -2.40005022] and number of misclassified: 3\n",
      "gradient: [2.         0.43117736 3.51603454] and number of misclassified: 2\n",
      "gradient: [ 1.         -0.17325063 -2.40005022] and number of misclassified: 3\n",
      "gradient: [ 1.         -0.17325063 -2.40005022] and number of misclassified: 3\n",
      "gradient: [2.         0.43117736 3.51603454] and number of misclassified: 2\n",
      "gradient: [ 1.         -0.17325063 -2.40005022] and number of misclassified: 3\n",
      "gradient: [ 1.         -0.17325063 -2.40005022] and number of misclassified: 3\n",
      "gradient: [2.         0.43117736 3.51603454] and number of misclassified: 2\n",
      "gradient: [ 1.         -0.17325063 -2.40005022] and number of misclassified: 3\n",
      "gradient: [ 1.         -0.17325063 -2.40005022] and number of misclassified: 3\n",
      "gradient: [2.         0.43117736 3.51603454] and number of misclassified: 2\n",
      "gradient: [ 1.         -0.17325063 -2.40005022] and number of misclassified: 3\n",
      "gradient: [2.         0.43117736 3.51603454] and number of misclassified: 2\n",
      "gradient: [ 1.         -0.17325063 -2.40005022] and number of misclassified: 3\n",
      "gradient: [ 1.         -0.17325063 -2.40005022] and number of misclassified: 3\n",
      "gradient: [2.         0.43117736 3.51603454] and number of misclassified: 2\n",
      "gradient: [ 1.         -0.17325063 -2.40005022] and number of misclassified: 3\n",
      "gradient: [ 1.         -0.17325063 -2.40005022] and number of misclassified: 3\n",
      "gradient: [2.         0.43117736 3.51603454] and number of misclassified: 2\n",
      "gradient: [ 1.         -0.17325063 -2.40005022] and number of misclassified: 3\n",
      "gradient: [ 1.         -0.17325063 -2.40005022] and number of misclassified: 3\n",
      "gradient: [2.         0.43117736 3.51603454] and number of misclassified: 2\n",
      "gradient: [ 1.         -0.17325063 -2.40005022] and number of misclassified: 3\n",
      "gradient: [2.         0.43117736 3.51603454] and number of misclassified: 2\n",
      "gradient: [ 1.         -0.17325063 -2.40005022] and number of misclassified: 3\n",
      "gradient: [ 1.         -0.17325063 -2.40005022] and number of misclassified: 3\n",
      "gradient: [2.         0.43117736 3.51603454] and number of misclassified: 2\n",
      "gradient: [ 1.         -0.17325063 -2.40005022] and number of misclassified: 3\n",
      "gradient: [ 1.         -0.17325063 -2.40005022] and number of misclassified: 3\n",
      "gradient: [2.         0.43117736 3.51603454] and number of misclassified: 2\n",
      "gradient: [ 1.         -0.17325063 -2.40005022] and number of misclassified: 3\n",
      "gradient: [ 1.         -0.17325063 -2.40005022] and number of misclassified: 3\n",
      "gradient: [2.         0.43117736 3.51603454] and number of misclassified: 2\n",
      "gradient: [ 1.         -0.17325063 -2.40005022] and number of misclassified: 3\n",
      "gradient: [2.         0.43117736 3.51603454] and number of misclassified: 2\n",
      "gradient: [-0.         -0.37060246 -4.0465145 ] and number of misclassified: 2\n",
      "gradient: [2.         0.43117736 3.51603454] and number of misclassified: 2\n",
      "gradient: [-0.         -0.37060246 -4.0465145 ] and number of misclassified: 2\n",
      "gradient: [2.         0.43117736 3.51603454] and number of misclassified: 2\n",
      "gradient: [-0.         -0.37060246 -4.0465145 ] and number of misclassified: 2\n",
      "gradient: [2.         0.43117736 3.51603454] and number of misclassified: 2\n",
      "gradient: [-0.         -0.37060246 -4.0465145 ] and number of misclassified: 2\n",
      "gradient: [2.         0.43117736 3.51603454] and number of misclassified: 2\n",
      "gradient: [-0.         -0.37060246 -4.0465145 ] and number of misclassified: 2\n",
      "gradient: [2.         0.43117736 3.51603454] and number of misclassified: 2\n",
      "gradient: [-0.         -0.37060246 -4.0465145 ] and number of misclassified: 2\n",
      "gradient: [1.         0.23382553 1.86957026] and number of misclassified: 1\n",
      "gradient: [-0.         -0.37060246 -4.0465145 ] and number of misclassified: 2\n",
      "gradient: [2.         0.43117736 3.51603454] and number of misclassified: 2\n",
      "gradient: [-0.         -0.37060246 -4.0465145 ] and number of misclassified: 2\n",
      "gradient: [2.         0.43117736 3.51603454] and number of misclassified: 2\n",
      "gradient: [-0.         -0.37060246 -4.0465145 ] and number of misclassified: 2\n",
      "gradient: [1.         0.23382553 1.86957026] and number of misclassified: 1\n",
      "gradient: [1.         0.23382553 1.86957026] and number of misclassified: 1\n",
      "gradient: [-0.         -0.37060246 -4.0465145 ] and number of misclassified: 2\n",
      "gradient: [1.         0.23382553 1.86957026] and number of misclassified: 1\n",
      "gradient: [1.         0.23382553 1.86957026] and number of misclassified: 1\n",
      "gradient: [-0.         -0.37060246 -4.0465145 ] and number of misclassified: 2\n",
      "gradient: [1.         0.23382553 1.86957026] and number of misclassified: 1\n",
      "gradient: [1.         0.23382553 1.86957026] and number of misclassified: 1\n",
      "gradient: [-0.         -0.37060246 -4.0465145 ] and number of misclassified: 2\n",
      "gradient: [1.         0.23382553 1.86957026] and number of misclassified: 1\n",
      "gradient: [1.         0.23382553 1.86957026] and number of misclassified: 1\n",
      "gradient: [-0.         -0.37060246 -4.0465145 ] and number of misclassified: 2\n",
      "gradient: [1.         0.23382553 1.86957026] and number of misclassified: 1\n",
      "gradient: [1.         0.23382553 1.86957026] and number of misclassified: 1\n",
      "gradient: [-0.         -0.37060246 -4.0465145 ] and number of misclassified: 2\n",
      "gradient: [1.         0.23382553 1.86957026] and number of misclassified: 1\n",
      "gradient: [1.         0.23382553 1.86957026] and number of misclassified: 1\n",
      "gradient: [-0.         -0.37060246 -4.0465145 ] and number of misclassified: 2\n",
      "gradient: [1.         0.23382553 1.86957026] and number of misclassified: 1\n",
      "gradient: [1.         0.23382553 1.86957026] and number of misclassified: 1\n",
      "gradient: [-0.         -0.37060246 -4.0465145 ] and number of misclassified: 2\n",
      "gradient: [1.         0.23382553 1.86957026] and number of misclassified: 1\n",
      "gradient: [1.         0.23382553 1.86957026] and number of misclassified: 1\n",
      "gradient: [-0.         -0.37060246 -4.0465145 ] and number of misclassified: 2\n",
      "gradient: [1.         0.23382553 1.86957026] and number of misclassified: 1\n",
      "gradient: [1.         0.23382553 1.86957026] and number of misclassified: 1\n",
      "gradient: [-0.         -0.37060246 -4.0465145 ] and number of misclassified: 2\n",
      "gradient: [1.         0.23382553 1.86957026] and number of misclassified: 1\n",
      "gradient: [1.         0.23382553 1.86957026] and number of misclassified: 1\n",
      "gradient: [-0.         -0.37060246 -4.0465145 ] and number of misclassified: 2\n",
      "gradient: [1.         0.23382553 1.86957026] and number of misclassified: 1\n",
      "gradient: [1.         0.23382553 1.86957026] and number of misclassified: 1\n",
      "gradient: [-0.         -0.37060246 -4.0465145 ] and number of misclassified: 2\n",
      "gradient: [1.         0.23382553 1.86957026] and number of misclassified: 1\n",
      "gradient: [1.         0.23382553 1.86957026] and number of misclassified: 1\n",
      "gradient: [-0.         -0.37060246 -4.0465145 ] and number of misclassified: 2\n",
      "gradient: [1.         0.23382553 1.86957026] and number of misclassified: 1\n",
      "gradient: [1.         0.23382553 1.86957026] and number of misclassified: 1\n",
      "gradient: [-0.         -0.37060246 -4.0465145 ] and number of misclassified: 2\n",
      "gradient: [1.         0.23382553 1.86957026] and number of misclassified: 1\n",
      "gradient: [1.         0.23382553 1.86957026] and number of misclassified: 1\n",
      "gradient: [-0.         -0.37060246 -4.0465145 ] and number of misclassified: 2\n",
      "gradient: [1.         0.23382553 1.86957026] and number of misclassified: 1\n",
      "gradient: [1.         0.23382553 1.86957026] and number of misclassified: 1\n",
      "gradient: [-0.         -0.37060246 -4.0465145 ] and number of misclassified: 2\n",
      "gradient: [1.         0.23382553 1.86957026] and number of misclassified: 1\n"
     ]
    },
    {
     "name": "stdout",
     "output_type": "stream",
     "text": [
      "gradient: [1.         0.23382553 1.86957026] and number of misclassified: 1\n",
      "gradient: [-0.         -0.37060246 -4.0465145 ] and number of misclassified: 2\n",
      "gradient: [1.         0.23382553 1.86957026] and number of misclassified: 1\n",
      "gradient: [1.         0.23382553 1.86957026] and number of misclassified: 1\n",
      "gradient: [-0.         -0.37060246 -4.0465145 ] and number of misclassified: 2\n",
      "gradient: [1.         0.23382553 1.86957026] and number of misclassified: 1\n",
      "gradient: [1.         0.23382553 1.86957026] and number of misclassified: 1\n",
      "gradient: [-0.         -0.37060246 -4.0465145 ] and number of misclassified: 2\n",
      "gradient: [1.         0.23382553 1.86957026] and number of misclassified: 1\n",
      "gradient: [1.         0.23382553 1.86957026] and number of misclassified: 1\n",
      "gradient: [-0.         -0.37060246 -4.0465145 ] and number of misclassified: 2\n",
      "gradient: [1.         0.23382553 1.86957026] and number of misclassified: 1\n",
      "gradient: [1.         0.23382553 1.86957026] and number of misclassified: 1\n",
      "gradient: [-0.         -0.37060246 -4.0465145 ] and number of misclassified: 2\n",
      "gradient: [1.         0.23382553 1.86957026] and number of misclassified: 1\n",
      "gradient: [1.         0.23382553 1.86957026] and number of misclassified: 1\n",
      "gradient: [-0.         -0.37060246 -4.0465145 ] and number of misclassified: 2\n",
      "gradient: [1.         0.23382553 1.86957026] and number of misclassified: 1\n",
      "gradient: [1.         0.23382553 1.86957026] and number of misclassified: 1\n",
      "gradient: [-0.         -0.37060246 -4.0465145 ] and number of misclassified: 2\n",
      "gradient: [1.         0.23382553 1.86957026] and number of misclassified: 1\n",
      "gradient: [1.         0.23382553 1.86957026] and number of misclassified: 1\n",
      "gradient: [-0.         -0.37060246 -4.0465145 ] and number of misclassified: 2\n",
      "gradient: [1.         0.23382553 1.86957026] and number of misclassified: 1\n",
      "gradient: [1.         0.23382553 1.86957026] and number of misclassified: 1\n",
      "gradient: [-0.         -0.37060246 -4.0465145 ] and number of misclassified: 2\n",
      "gradient: [1.         0.23382553 1.86957026] and number of misclassified: 1\n",
      "gradient: [1.         0.23382553 1.86957026] and number of misclassified: 1\n",
      "gradient: [-0.         -0.37060246 -4.0465145 ] and number of misclassified: 2\n",
      "gradient: [1.         0.23382553 1.86957026] and number of misclassified: 1\n",
      "gradient: [1.         0.23382553 1.86957026] and number of misclassified: 1\n",
      "gradient: [-0.         -0.37060246 -4.0465145 ] and number of misclassified: 2\n",
      "gradient: [1.         0.23382553 1.86957026] and number of misclassified: 1\n",
      "gradient: [1.         0.23382553 1.86957026] and number of misclassified: 1\n",
      "gradient: [-0.         -0.37060246 -4.0465145 ] and number of misclassified: 2\n",
      "gradient: [1.         0.23382553 1.86957026] and number of misclassified: 1\n",
      "gradient: [1.         0.23382553 1.86957026] and number of misclassified: 1\n",
      "gradient: [-0.         -0.37060246 -4.0465145 ] and number of misclassified: 2\n",
      "gradient: [1.         0.23382553 1.86957026] and number of misclassified: 1\n",
      "gradient: [1.         0.23382553 1.86957026] and number of misclassified: 1\n",
      "gradient: [-0.         -0.37060246 -4.0465145 ] and number of misclassified: 2\n",
      "gradient: [1.         0.23382553 1.86957026] and number of misclassified: 1\n",
      "gradient: [1.         0.23382553 1.86957026] and number of misclassified: 1\n",
      "gradient: [-0.         -0.37060246 -4.0465145 ] and number of misclassified: 2\n",
      "gradient: [1.         0.23382553 1.86957026] and number of misclassified: 1\n",
      "gradient: [1.         0.23382553 1.86957026] and number of misclassified: 1\n",
      "gradient: [-0.         -0.37060246 -4.0465145 ] and number of misclassified: 2\n",
      "gradient: [1.         0.23382553 1.86957026] and number of misclassified: 1\n",
      "gradient: [1.         0.23382553 1.86957026] and number of misclassified: 1\n",
      "gradient: [-0.         -0.37060246 -4.0465145 ] and number of misclassified: 2\n",
      "gradient: [1.         0.23382553 1.86957026] and number of misclassified: 1\n",
      "gradient: [1.         0.23382553 1.86957026] and number of misclassified: 1\n",
      "gradient: [-0.         -0.37060246 -4.0465145 ] and number of misclassified: 2\n",
      "gradient: [1.         0.23382553 1.86957026] and number of misclassified: 1\n",
      "gradient: [1.         0.23382553 1.86957026] and number of misclassified: 1\n",
      "gradient: [-0.         -0.37060246 -4.0465145 ] and number of misclassified: 2\n",
      "gradient: [1.         0.23382553 1.86957026] and number of misclassified: 1\n",
      "gradient: [1.         0.23382553 1.86957026] and number of misclassified: 1\n",
      "gradient: [-0.         -0.37060246 -4.0465145 ] and number of misclassified: 2\n",
      "gradient: [1.         0.23382553 1.86957026] and number of misclassified: 1\n",
      "gradient: [1.         0.23382553 1.86957026] and number of misclassified: 1\n",
      "gradient: [-0.         -0.37060246 -4.0465145 ] and number of misclassified: 2\n",
      "gradient: [1.         0.23382553 1.86957026] and number of misclassified: 1\n",
      "gradient: [1.         0.23382553 1.86957026] and number of misclassified: 1\n",
      "gradient: [-0.         -0.37060246 -4.0465145 ] and number of misclassified: 2\n",
      "gradient: [1.         0.23382553 1.86957026] and number of misclassified: 1\n",
      "gradient: [1.         0.23382553 1.86957026] and number of misclassified: 1\n",
      "gradient: [-0.         -0.37060246 -4.0465145 ] and number of misclassified: 2\n",
      "gradient: [1.         0.23382553 1.86957026] and number of misclassified: 1\n",
      "gradient: [1.         0.23382553 1.86957026] and number of misclassified: 1\n",
      "gradient: [-0.         -0.37060246 -4.0465145 ] and number of misclassified: 2\n",
      "gradient: [1.         0.23382553 1.86957026] and number of misclassified: 1\n",
      "gradient: [1.         0.23382553 1.86957026] and number of misclassified: 1\n",
      "gradient: [-1.         -0.60442799 -5.91608476] and number of misclassified: 1\n",
      "gradient: [1.         0.23382553 1.86957026] and number of misclassified: 1\n",
      "gradient: [1.         0.23382553 1.86957026] and number of misclassified: 1\n",
      "gradient: [1.         0.23382553 1.86957026] and number of misclassified: 1\n",
      "gradient: [-1.         -0.60442799 -5.91608476] and number of misclassified: 1\n",
      "gradient: [1.         0.23382553 1.86957026] and number of misclassified: 1\n",
      "gradient: [1.         0.23382553 1.86957026] and number of misclassified: 1\n",
      "gradient: [1.         0.23382553 1.86957026] and number of misclassified: 1\n",
      "gradient: [-1.         -0.60442799 -5.91608476] and number of misclassified: 1\n",
      "gradient: [1.         0.23382553 1.86957026] and number of misclassified: 1\n",
      "gradient: [1.         0.23382553 1.86957026] and number of misclassified: 1\n",
      "gradient: [1.         0.23382553 1.86957026] and number of misclassified: 1\n",
      "gradient: [-1.         -0.60442799 -5.91608476] and number of misclassified: 1\n",
      "gradient: [1.         0.23382553 1.86957026] and number of misclassified: 1\n",
      "gradient: [1.         0.23382553 1.86957026] and number of misclassified: 1\n",
      "gradient: [0. 0. 0.] and number of misclassified: 0\n",
      "Final w: [-0.27        4.27511337 -0.39094128]\n"
     ]
    }
   ],
   "source": [
    "w=np.array([-0.5,3.2,-3.5]) # Guess of w, a good one actually\n",
    "tolerance=1e-20 # The tolerance we choose to stop the iterations\n",
    "w=find_optimal_w(Dataset,w,dataset['c'],tolerance) # Computing w\n",
    "\n",
    "print(\"Final w: {}\".format(w)) # Diplaying w# Diplaying w"
   ]
  },
  {
   "cell_type": "code",
   "execution_count": 29,
   "metadata": {},
   "outputs": [
    {
     "data": {
      "image/png": "[encoded data removed]",
      "text/plain": [
       "<Figure size 432x288 with 1 Axes>"
      ]
     },
     "metadata": {
      "needs_background": "light"
     },
     "output_type": "display_data"
    }
   ],
   "source": [
    "x=np.linspace(-3,6)\n",
    "sn.scatterplot(Dataset['x'],Dataset['y'], s=40)\n",
    "plt.plot(x,plot_the_line(w,x), color='red')\n",
    "plt.xlim(-2.5,5.5)\n",
    "plt.ylim(-0,11)\n",
    "plt.show()"
   ]
  },
  {
   "cell_type": "code",
   "execution_count": 91,
   "metadata": {},
   "outputs": [],
   "source": []
  },
  {
   "cell_type": "code",
   "execution_count": 55,
   "metadata": {},
   "outputs": [],
   "source": []
  },
  {
   "cell_type": "code",
   "execution_count": 74,
   "metadata": {},
   "outputs": [],
   "source": [
    "def quick_sort_helper(arr,pivot):\n",
    "    for i in range(len(arr)):\n",
    "        Restart=False\n",
    "        if arr[i] <= arr[pivot]:\n",
    "            pass\n",
    "        else:\n",
    "            temp = arr[i]\n",
    "            arr[i] = arr[pivot-1]\n",
    "            arr[pivot -1] = arr[pivot]\n",
    "            arr[pivot] = temp\n",
    "            Restart=True\n",
    "            break\n",
    "    if Restart:\n",
    "        arr = quick_sort_helper(arr,pivot)\n",
    "    return arr\n",
    "        \n",
    "            \n",
    "def very_very_quick_sort(arr):\n",
    "    l = len(arr)\n",
    "    pivot = len(arr)-1\n",
    "    for i in range(l):\n",
    "        if i >= 1:\n",
    "            arr[:-i] = quick_sort_helper(arr[:-i],pivot-i)\n",
    "        else:\n",
    "            arr = quick_sort_helper(arr,pivot-i)\n",
    "    return arr"
   ]
  },
  {
   "cell_type": "code",
   "execution_count": 75,
   "metadata": {},
   "outputs": [],
   "source": [
    "a= [110,4,2,7,9,2,12,-56]"
   ]
  },
  {
   "cell_type": "code",
   "execution_count": 76,
   "metadata": {},
   "outputs": [
    {
     "data": {
      "text/plain": [
       "[-56, 2, 2, 4, 7, 9, 12, 110]"
      ]
     },
     "execution_count": 76,
     "metadata": {},
     "output_type": "execute_result"
    }
   ],
   "source": [
    "quick_sort(a)"
   ]
  },
  {
   "cell_type": "code",
   "execution_count": null,
   "metadata": {},
   "outputs": [],
   "source": [
    "locations = {'North America': {'USA': ['Mountain View']}, 'Asia': {'India': ['Bangalore']}, 'North America': {'USA': ['Atlanta']}, 'Africa': {'Egypt': 'Cairo'}, 'Asia': {'China': ['Shanghai']}}\n"
   ]
  },
  {
   "cell_type": "code",
   "execution_count": 5,
   "metadata": {},
   "outputs": [],
   "source": [
    "ar=np.array([12.3,4,3.9])"
   ]
  },
  {
   "cell_type": "code",
   "execution_count": 6,
   "metadata": {},
   "outputs": [
    {
     "data": {
      "text/plain": [
       "array([12.3,  4. ,  3.9])"
      ]
     },
     "execution_count": 6,
     "metadata": {},
     "output_type": "execute_result"
    }
   ],
   "source": [
    "ar"
   ]
  },
  {
   "cell_type": "code",
   "execution_count": 7,
   "metadata": {},
   "outputs": [
    {
     "data": {
      "text/plain": [
       "array([[12.3,  4. ,  3.9]])"
      ]
     },
     "execution_count": 7,
     "metadata": {},
     "output_type": "execute_result"
    }
   ],
   "source": [
    "ar[None,:]"
   ]
  },
  {
   "cell_type": "code",
   "execution_count": 16,
   "metadata": {},
   "outputs": [
    {
     "data": {
      "text/plain": [
       "array([-0.00345667, -0.37448701, -1.33237747,  0.04661349,  1.26947331])"
      ]
     },
     "execution_count": 16,
     "metadata": {},
     "output_type": "execute_result"
    }
   ],
   "source": [
    "np.random.randn(5)"
   ]
  },
  {
   "cell_type": "markdown",
   "metadata": {},
   "source": [
    "## Note that here again, the classification process ended well even though with our eyes we are  not convinced."
   ]
  },
  {
   "cell_type": "code",
   "execution_count": 17,
   "metadata": {},
   "outputs": [
    {
     "ename": "TypeError",
     "evalue": "array_split() missing 2 required positional arguments: 'ary' and 'indices_or_sections'",
     "output_type": "error",
     "traceback": [
      "\u001b[0;31m---------------------------------------------------------------------------\u001b[0m",
      "\u001b[0;31mTypeError\u001b[0m                                 Traceback (most recent call last)",
      "\u001b[0;32m<ipython-input-17-68a941c26909>\u001b[0m in \u001b[0;36m<module>\u001b[0;34m()\u001b[0m\n\u001b[0;32m----> 1\u001b[0;31m \u001b[0mnp\u001b[0m\u001b[0;34m.\u001b[0m\u001b[0marray_split\u001b[0m\u001b[0;34m(\u001b[0m\u001b[0;34m)\u001b[0m\u001b[0;34m\u001b[0m\u001b[0;34m\u001b[0m\u001b[0m\n\u001b[0m",
      "\u001b[0;31mTypeError\u001b[0m: array_split() missing 2 required positional arguments: 'ary' and 'indices_or_sections'"
     ]
    }
   ],
   "source": [
    "np.array_split()"
   ]
  },
  {
   "cell_type": "code",
   "execution_count": null,
   "metadata": {},
   "outputs": [],
   "source": []
  },
  {
   "cell_type": "code",
   "execution_count": null,
   "metadata": {},
   "outputs": [],
   "source": []
  }
 ],
 "metadata": {
  "kernelspec": {
   "display_name": "Python 3",
   "language": "python",
   "name": "python3"
  },
  "language_info": {
   "codemirror_mode": {
    "name": "ipython",
    "version": 3
   },
   "file_extension": ".py",
   "mimetype": "text/x-python",
   "name": "python",
   "nbconvert_exporter": "python",
   "pygments_lexer": "ipython3",
   "version": "3.7.3"
  }
 },
 "nbformat": 4,
 "nbformat_minor": 2
}
