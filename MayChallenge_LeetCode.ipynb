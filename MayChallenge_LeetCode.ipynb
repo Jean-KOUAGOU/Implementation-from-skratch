{
 "cells": [
  {
   "cell_type": "markdown",
   "metadata": {},
   "source": [
    "## First Bad Version"
   ]
  },
  {
   "cell_type": "code",
   "execution_count": null,
   "metadata": {},
   "outputs": [],
   "source": [
    "class Solution:\n",
    "    def firstBadVersion(self, n):\n",
    "        \"\"\"\n",
    "        :type n: int\n",
    "        :rtype: int\n",
    "        \"\"\"\n",
    "        version = n//2\n",
    "        previous1 = n\n",
    "        previous2 = 0\n",
    "        while True:\n",
    "            if isBadVersion(version):\n",
    "                previous1 = version\n",
    "                if version-previous2 == 1 or isBadVersion(version) and version > 1 and not isBadVersion(version-1):\n",
    "                    return version\n",
    "                version = (version+previous2)//2\n",
    "            else:\n",
    "                previous2 = version\n",
    "                if previous1-version == 1:\n",
    "                    return previous1\n",
    "                version = (previous1+version)//2"
   ]
  },
  {
   "cell_type": "markdown",
   "metadata": {},
   "source": [
    "## Jewels and Stones"
   ]
  },
  {
   "cell_type": "code",
   "execution_count": null,
   "metadata": {},
   "outputs": [],
   "source": [
    "from collections import Counter\n",
    "class Solution:\n",
    "    def numJewelsInStones(self, J: str, S: str) -> int:\n",
    "        count = 0\n",
    "        Counts = Counter(S)\n",
    "        for jewel in J:\n",
    "            count += Counts[jewel]\n",
    "        return count"
   ]
  },
  {
   "cell_type": "markdown",
   "metadata": {},
   "source": [
    "## Ransom Notes"
   ]
  },
  {
   "cell_type": "code",
   "execution_count": null,
   "metadata": {},
   "outputs": [],
   "source": [
    "from collections import Counter\n",
    "class Solution:\n",
    "    def canConstruct(self, ransomNote: str, magazine: str) -> bool:\n",
    "        rN_counts = Counter(ransomNote)\n",
    "        mg_counts = Counter(magazine)\n",
    "        for caract in rN_counts:\n",
    "            if rN_counts[caract] > mg_counts[caract]:\n",
    "                return False\n",
    "        return True"
   ]
  },
  {
   "cell_type": "markdown",
   "metadata": {},
   "source": [
    "## Complement of a number"
   ]
  },
  {
   "cell_type": "code",
   "execution_count": 12,
   "metadata": {},
   "outputs": [],
   "source": [
    "class Solution:\n",
    "    def findComplement(self, num: int) -> int:\n",
    "        num = bin(num)[2:]\n",
    "        result = ''\n",
    "        for dg in num:\n",
    "            result += str((1-int(dg)))\n",
    "        return int(result, 2)"
   ]
  },
  {
   "cell_type": "markdown",
   "metadata": {},
   "source": [
    "## First Unique Character in a String"
   ]
  },
  {
   "cell_type": "code",
   "execution_count": null,
   "metadata": {},
   "outputs": [],
   "source": [
    "from collections import Counter\n",
    "class Solution:\n",
    "    def firstUniqChar(self, s: str) -> int:\n",
    "        Counts = Counter(s)\n",
    "        for caract in Counts:\n",
    "            if Counts[caract] == 1:\n",
    "                return s.index(caract)\n",
    "        return -1"
   ]
  },
  {
   "cell_type": "markdown",
   "metadata": {},
   "source": [
    "## Majority Element\n"
   ]
  },
  {
   "cell_type": "code",
   "execution_count": null,
   "metadata": {},
   "outputs": [],
   "source": [
    "from collections import Counter\n",
    "class Solution:\n",
    "    def majorityElement(self, nums: List[int]) -> int:\n",
    "        Counts = Counter(nums)\n",
    "        N = len(nums)//2\n",
    "        for n in Counts:\n",
    "            if Counts[n] > N:\n",
    "                return n"
   ]
  },
  {
   "cell_type": "markdown",
   "metadata": {},
   "source": [
    "## Cousins In Binary Tree"
   ]
  },
  {
   "cell_type": "code",
   "execution_count": null,
   "metadata": {},
   "outputs": [],
   "source": [
    "class Solution:\n",
    "    def isCousins(self, root: TreeNode, x: int, y: int) -> bool:\n",
    "        return self.depth(root, x) == self.depth(root, y) and not self.sameParent(root, x, y)\n",
    "    def depth(self, root, val):\n",
    "        if not root:\n",
    "            return 100\n",
    "        if root.val == val:\n",
    "            return 0\n",
    "        return min(1+self.depth(root.left, val), 1+self.depth(root.right, val))\n",
    "    def sameParent(self, root, val1, val2):\n",
    "        if not root:\n",
    "            return False\n",
    "        \n",
    "        if root.left and root.right and (root.left.val == val1 and root.right.val == val2 or root.left.val == val2 and root.right.val == val1):\n",
    "            return True\n",
    "        return self.sameParent(root.left, val1, val2) or self.sameParent(root.right, val1, val2)"
   ]
  }
 ],
 "metadata": {
  "kernelspec": {
   "display_name": "Python 3",
   "language": "python",
   "name": "python3"
  },
  "language_info": {
   "codemirror_mode": {
    "name": "ipython",
    "version": 3
   },
   "file_extension": ".py",
   "mimetype": "text/x-python",
   "name": "python",
   "nbconvert_exporter": "python",
   "pygments_lexer": "ipython3",
   "version": "3.7.6"
  }
 },
 "nbformat": 4,
 "nbformat_minor": 4
}
