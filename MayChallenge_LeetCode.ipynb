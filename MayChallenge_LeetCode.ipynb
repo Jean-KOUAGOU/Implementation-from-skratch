{
 "cells": [
  {
   "cell_type": "markdown",
   "metadata": {},
   "source": [
    "## First Bad Version"
   ]
  },
  {
   "cell_type": "code",
   "execution_count": null,
   "metadata": {},
   "outputs": [],
   "source": [
    "class Solution:\n",
    "    def firstBadVersion(self, n):\n",
    "        \"\"\"\n",
    "        :type n: int\n",
    "        :rtype: int\n",
    "        \"\"\"\n",
    "        version = n//2\n",
    "        previous1 = n\n",
    "        previous2 = 0\n",
    "        while True:\n",
    "            if isBadVersion(version):\n",
    "                previous1 = version\n",
    "                if version-previous2 == 1 or isBadVersion(version) and version > 1 and not isBadVersion(version-1):\n",
    "                    return version\n",
    "                version = (version+previous2)//2\n",
    "            else:\n",
    "                previous2 = version\n",
    "                if previous1-version == 1:\n",
    "                    return previous1\n",
    "                version = (previous1+version)//2"
   ]
  },
  {
   "cell_type": "markdown",
   "metadata": {},
   "source": [
    "## Jewels and Stones"
   ]
  },
  {
   "cell_type": "code",
   "execution_count": null,
   "metadata": {},
   "outputs": [],
   "source": [
    "from collections import Counter\n",
    "class Solution:\n",
    "    def numJewelsInStones(self, J: str, S: str) -> int:\n",
    "        count = 0\n",
    "        Counts = Counter(S)\n",
    "        for jewel in J:\n",
    "            count += Counts[jewel]\n",
    "        return count"
   ]
  },
  {
   "cell_type": "markdown",
   "metadata": {},
   "source": [
    "## Ransom Notes"
   ]
  },
  {
   "cell_type": "code",
   "execution_count": null,
   "metadata": {},
   "outputs": [],
   "source": [
    "from collections import Counter\n",
    "class Solution:\n",
    "    def canConstruct(self, ransomNote: str, magazine: str) -> bool:\n",
    "        rN_counts = Counter(ransomNote)\n",
    "        mg_counts = Counter(magazine)\n",
    "        for caract in rN_counts:\n",
    "            if rN_counts[caract] > mg_counts[caract]:\n",
    "                return False\n",
    "        return True"
   ]
  },
  {
   "cell_type": "markdown",
   "metadata": {},
   "source": [
    "## Complement of a number"
   ]
  },
  {
   "cell_type": "code",
   "execution_count": 12,
   "metadata": {},
   "outputs": [],
   "source": [
    "class Solution:\n",
    "    def findComplement(self, num: int) -> int:\n",
    "        num = bin(num)[2:]\n",
    "        result = ''\n",
    "        for dg in num:\n",
    "            result += str((1-int(dg)))\n",
    "        return int(result, 2)"
   ]
  },
  {
   "cell_type": "markdown",
   "metadata": {},
   "source": [
    "## First Unique Character in a String"
   ]
  },
  {
   "cell_type": "code",
   "execution_count": 2,
   "metadata": {},
   "outputs": [],
   "source": [
    "from collections import Counter\n",
    "class Solution:\n",
    "    def firstUniqChar(self, s: str) -> int:\n",
    "        Counts = Counter(s)\n",
    "        for caract in Counts:\n",
    "            if Counts[caract] == 1:\n",
    "                return s.index(caract)\n",
    "        return -1"
   ]
  },
  {
   "cell_type": "markdown",
   "metadata": {},
   "source": [
    "## Majority Element\n"
   ]
  },
  {
   "cell_type": "code",
   "execution_count": null,
   "metadata": {},
   "outputs": [],
   "source": [
    "from collections import Counter\n",
    "class Solution:\n",
    "    def majorityElement(self, nums) -> int:\n",
    "        Counts = Counter(nums)\n",
    "        N = len(nums)//2\n",
    "        for n in Counts:\n",
    "            if Counts[n] > N:\n",
    "                return n"
   ]
  },
  {
   "cell_type": "markdown",
   "metadata": {},
   "source": [
    "## Cousins In Binary Tree"
   ]
  },
  {
   "cell_type": "code",
   "execution_count": null,
   "metadata": {},
   "outputs": [],
   "source": [
    "class Solution:\n",
    "    def isCousins(self, root: TreeNode, x: int, y: int) -> bool:\n",
    "        return self.depth(root, x) == self.depth(root, y) and not self.sameParent(root, x, y)\n",
    "    def depth(self, root, val):\n",
    "        if not root:\n",
    "            return 100\n",
    "        if root.val == val:\n",
    "            return 0\n",
    "        return min(1+self.depth(root.left, val), 1+self.depth(root.right, val))\n",
    "    def sameParent(self, root, val1, val2):\n",
    "        if not root:\n",
    "            return False\n",
    "        \n",
    "        if root.left and root.right and (root.left.val == val1 and root.right.val == val2 or root.left.val == val2 and root.right.val == val1):\n",
    "            return True\n",
    "        return self.sameParent(root.left, val1, val2) or self.sameParent(root.right, val1, val2)"
   ]
  },
  {
   "cell_type": "markdown",
   "metadata": {},
   "source": [
    "## Check If It Is a Straight Line"
   ]
  },
  {
   "cell_type": "code",
   "execution_count": 2,
   "metadata": {},
   "outputs": [],
   "source": [
    "class Solution:\n",
    "    def checkStraightLine(self, coordinates) -> bool:\n",
    "        slp = self.slope(coordinates[1], coordinates[0])\n",
    "        for index in range(2, len(coordinates))[::-1]:\n",
    "            if self.slope(coordinates[index], coordinates[0]) != slp:\n",
    "                return False\n",
    "        return True\n",
    "    def slope(self, point1, point2):\n",
    "        return (point2[1]-point1[1])/(point2[0]-point1[0]) if point2[0] != point1[0] else float('inf')"
   ]
  },
  {
   "cell_type": "markdown",
   "metadata": {},
   "source": [
    "## Valid Perfect Square"
   ]
  },
  {
   "cell_type": "code",
   "execution_count": 1,
   "metadata": {},
   "outputs": [],
   "source": [
    "class Solution:\n",
    "    def isPerfectSquare(self, num: int) -> bool:\n",
    "        if num%10 not in [0,1,4,5,6,9]:\n",
    "            return False\n",
    "        if num == 1: return True\n",
    "        sq1 = num//2\n",
    "        sq2 = num\n",
    "        while True:\n",
    "            if sq1**2 == num:\n",
    "                return True\n",
    "            if sq1**2 > num:\n",
    "                sq2 = sq1\n",
    "                sq1 = (1+sq1)//2\n",
    "            if sq1**2 < num:\n",
    "                if sq1 != (sq1+sq2)//2:\n",
    "                    sq1 = (sq1+sq2)//2\n",
    "                else: return False"
   ]
  },
  {
   "cell_type": "markdown",
   "metadata": {},
   "source": [
    "## Find the Town Judge"
   ]
  },
  {
   "cell_type": "code",
   "execution_count": 15,
   "metadata": {},
   "outputs": [],
   "source": [
    "import numpy as np\n",
    "from collections import Counter\n",
    "class Solution:\n",
    "    def findJudge(self, N: int, trust) -> int:\n",
    "        if N == 1:\n",
    "            return N\n",
    "        Trust = np.array(trust)\n",
    "        Counts = Counter(Trust[:, 1])\n",
    "        Values = list(Counts.values())\n",
    "        if Values.count(N-1) != 1:\n",
    "            return -1\n",
    "        judge = list(Counts.keys())[Values.index(N-1)]\n",
    "        if judge in Trust[:, 0]:\n",
    "            return -1\n",
    "        return judge"
   ]
  },
  {
   "cell_type": "markdown",
   "metadata": {},
   "source": [
    "## Flood Fill"
   ]
  },
  {
   "cell_type": "code",
   "execution_count": null,
   "metadata": {},
   "outputs": [],
   "source": [
    "class Solution:\n",
    "    def floodFill(self, image, sr: int, sc: int, newColor: int):\n",
    "        prevColor = image[sr][sc]\n",
    "        self.fill(image, sr, sc, newColor, prevColor)\n",
    "        return image\n",
    "    def fill(self, image, x, y, newColor, prevColor):\n",
    "        if x<0 or x>=len(image) or y<0 or y>=len(image[0]) or image[x][y]!=prevColor or image[x][y]==newColor:\n",
    "            return\n",
    "        image[x][y] = newColor\n",
    "        self.fill(image, x-1, y, newColor, prevColor)\n",
    "        self.fill(image, x+1, y, newColor, prevColor)\n",
    "        self.fill(image, x, y-1, newColor, prevColor)\n",
    "        self.fill(image, x, y+1, newColor, prevColor)"
   ]
  },
  {
   "cell_type": "markdown",
   "metadata": {},
   "source": [
    "##  Single Element in a Sorted Array"
   ]
  },
  {
   "cell_type": "code",
   "execution_count": null,
   "metadata": {},
   "outputs": [],
   "source": [
    "from collections import Counter\n",
    "class Solution:\n",
    "    def singleNonDuplicate(self, nums: List[int]) -> int:\n",
    "        Counts = Counter(nums)\n",
    "        res = list(Counts.keys())[list(Counts.values()).index(1)]\n",
    "        return res"
   ]
  }
 ],
 "metadata": {
  "kernelspec": {
   "display_name": "Python 3",
   "language": "python",
   "name": "python3"
  },
  "language_info": {
   "codemirror_mode": {
    "name": "ipython",
    "version": 3
   },
   "file_extension": ".py",
   "mimetype": "text/x-python",
   "name": "python",
   "nbconvert_exporter": "python",
   "pygments_lexer": "ipython3",
   "version": "3.7.6"
  }
 },
 "nbformat": 4,
 "nbformat_minor": 4
}
