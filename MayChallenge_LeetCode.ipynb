{
 "cells": [
  {
   "cell_type": "markdown",
   "metadata": {},
   "source": [
    "## First Bad Version"
   ]
  },
  {
   "cell_type": "code",
   "execution_count": null,
   "metadata": {},
   "outputs": [],
   "source": [
    "class Solution:\n",
    "    def firstBadVersion(self, n):\n",
    "        \"\"\"\n",
    "        :type n: int\n",
    "        :rtype: int\n",
    "        \"\"\"\n",
    "        version = n//2\n",
    "        previous1 = n\n",
    "        previous2 = 0\n",
    "        while True:\n",
    "            if isBadVersion(version):\n",
    "                previous1 = version\n",
    "                if version-previous2 == 1 or isBadVersion(version) and version > 1 and not isBadVersion(version-1):\n",
    "                    return version\n",
    "                version = (version+previous2)//2\n",
    "            else:\n",
    "                previous2 = version\n",
    "                if previous1-version == 1:\n",
    "                    return previous1\n",
    "                version = (previous1+version)//2"
   ]
  },
  {
   "cell_type": "markdown",
   "metadata": {},
   "source": [
    "## Jewels and Stones"
   ]
  },
  {
   "cell_type": "code",
   "execution_count": null,
   "metadata": {},
   "outputs": [],
   "source": [
    "from collections import Counter\n",
    "class Solution:\n",
    "    def numJewelsInStones(self, J: str, S: str) -> int:\n",
    "        count = 0\n",
    "        Counts = Counter(S)\n",
    "        for jewel in J:\n",
    "            count += Counts[jewel]\n",
    "        return count"
   ]
  },
  {
   "cell_type": "markdown",
   "metadata": {},
   "source": [
    "## Ransom Notes"
   ]
  },
  {
   "cell_type": "code",
   "execution_count": null,
   "metadata": {},
   "outputs": [],
   "source": [
    "from collections import Counter\n",
    "class Solution:\n",
    "    def canConstruct(self, ransomNote: str, magazine: str) -> bool:\n",
    "        rN_counts = Counter(ransomNote)\n",
    "        mg_counts = Counter(magazine)\n",
    "        for caract in rN_counts:\n",
    "            if rN_counts[caract] > mg_counts[caract]:\n",
    "                return False\n",
    "        return True"
   ]
  },
  {
   "cell_type": "markdown",
   "metadata": {},
   "source": [
    "## Complement of a number"
   ]
  },
  {
   "cell_type": "code",
   "execution_count": 12,
   "metadata": {},
   "outputs": [],
   "source": [
    "class Solution:\n",
    "    def findComplement(self, num: int) -> int:\n",
    "        num = bin(num)[2:]\n",
    "        result = ''\n",
    "        for dg in num:\n",
    "            result += str((1-int(dg)))\n",
    "        return int(result, 2)"
   ]
  },
  {
   "cell_type": "markdown",
   "metadata": {},
   "source": [
    "## First Unique Character in a String"
   ]
  },
  {
   "cell_type": "code",
   "execution_count": 2,
   "metadata": {},
   "outputs": [],
   "source": [
    "from collections import Counter\n",
    "class Solution:\n",
    "    def firstUniqChar(self, s: str) -> int:\n",
    "        Counts = Counter(s)\n",
    "        for caract in Counts:\n",
    "            if Counts[caract] == 1:\n",
    "                return s.index(caract)\n",
    "        return -1"
   ]
  },
  {
   "cell_type": "markdown",
   "metadata": {},
   "source": [
    "## Majority Element\n"
   ]
  },
  {
   "cell_type": "code",
   "execution_count": null,
   "metadata": {},
   "outputs": [],
   "source": [
    "from collections import Counter\n",
    "class Solution:\n",
    "    def majorityElement(self, nums) -> int:\n",
    "        Counts = Counter(nums)\n",
    "        N = len(nums)//2\n",
    "        for n in Counts:\n",
    "            if Counts[n] > N:\n",
    "                return n"
   ]
  },
  {
   "cell_type": "markdown",
   "metadata": {},
   "source": [
    "## Cousins In Binary Tree"
   ]
  },
  {
   "cell_type": "code",
   "execution_count": null,
   "metadata": {},
   "outputs": [],
   "source": [
    "class Solution:\n",
    "    def isCousins(self, root: TreeNode, x: int, y: int) -> bool:\n",
    "        return self.depth(root, x) == self.depth(root, y) and not self.sameParent(root, x, y)\n",
    "    def depth(self, root, val):\n",
    "        if not root:\n",
    "            return 100\n",
    "        if root.val == val:\n",
    "            return 0\n",
    "        return min(1+self.depth(root.left, val), 1+self.depth(root.right, val))\n",
    "    def sameParent(self, root, val1, val2):\n",
    "        if not root:\n",
    "            return False\n",
    "        \n",
    "        if root.left and root.right and (root.left.val == val1 and root.right.val == val2 or root.left.val == val2 and root.right.val == val1):\n",
    "            return True\n",
    "        return self.sameParent(root.left, val1, val2) or self.sameParent(root.right, val1, val2)"
   ]
  },
  {
   "cell_type": "markdown",
   "metadata": {},
   "source": [
    "## Check If It Is a Straight Line"
   ]
  },
  {
   "cell_type": "code",
   "execution_count": 2,
   "metadata": {},
   "outputs": [],
   "source": [
    "class Solution:\n",
    "    def checkStraightLine(self, coordinates) -> bool:\n",
    "        slp = self.slope(coordinates[1], coordinates[0])\n",
    "        for index in range(2, len(coordinates))[::-1]:\n",
    "            if self.slope(coordinates[index], coordinates[0]) != slp:\n",
    "                return False\n",
    "        return True\n",
    "    def slope(self, point1, point2):\n",
    "        return (point2[1]-point1[1])/(point2[0]-point1[0]) if point2[0] != point1[0] else float('inf')"
   ]
  },
  {
   "cell_type": "markdown",
   "metadata": {},
   "source": [
    "## Valid Perfect Square"
   ]
  },
  {
   "cell_type": "code",
   "execution_count": 1,
   "metadata": {},
   "outputs": [],
   "source": [
    "class Solution:\n",
    "    def isPerfectSquare(self, num: int) -> bool:\n",
    "        if num%10 not in [0,1,4,5,6,9]:\n",
    "            return False\n",
    "        if num == 1: return True\n",
    "        sq1 = num//2\n",
    "        sq2 = num\n",
    "        while True:\n",
    "            if sq1**2 == num:\n",
    "                return True\n",
    "            if sq1**2 > num:\n",
    "                sq2 = sq1\n",
    "                sq1 = (1+sq1)//2\n",
    "            if sq1**2 < num:\n",
    "                if sq1 != (sq1+sq2)//2:\n",
    "                    sq1 = (sq1+sq2)//2\n",
    "                else: return False"
   ]
  },
  {
   "cell_type": "markdown",
   "metadata": {},
   "source": [
    "## Find the Town Judge"
   ]
  },
  {
   "cell_type": "code",
   "execution_count": 15,
   "metadata": {},
   "outputs": [],
   "source": [
    "import numpy as np\n",
    "from collections import Counter\n",
    "class Solution:\n",
    "    def findJudge(self, N: int, trust) -> int:\n",
    "        if N == 1:\n",
    "            return N\n",
    "        Trust = np.array(trust)\n",
    "        Counts = Counter(Trust[:, 1])\n",
    "        Values = list(Counts.values())\n",
    "        if Values.count(N-1) != 1:\n",
    "            return -1\n",
    "        judge = list(Counts.keys())[Values.index(N-1)]\n",
    "        if judge in Trust[:, 0]:\n",
    "            return -1\n",
    "        return judge"
   ]
  },
  {
   "cell_type": "markdown",
   "metadata": {},
   "source": [
    "## Flood Fill"
   ]
  },
  {
   "cell_type": "code",
   "execution_count": null,
   "metadata": {},
   "outputs": [],
   "source": [
    "class Solution:\n",
    "    def floodFill(self, image, sr: int, sc: int, newColor: int):\n",
    "        prevColor = image[sr][sc]\n",
    "        self.fill(image, sr, sc, newColor, prevColor)\n",
    "        return image\n",
    "    def fill(self, image, x, y, newColor, prevColor):\n",
    "        if x<0 or x>=len(image) or y<0 or y>=len(image[0]) or image[x][y]!=prevColor or image[x][y]==newColor:\n",
    "            return\n",
    "        image[x][y] = newColor\n",
    "        self.fill(image, x-1, y, newColor, prevColor)\n",
    "        self.fill(image, x+1, y, newColor, prevColor)\n",
    "        self.fill(image, x, y-1, newColor, prevColor)\n",
    "        self.fill(image, x, y+1, newColor, prevColor)"
   ]
  },
  {
   "cell_type": "markdown",
   "metadata": {},
   "source": [
    "##  Single Element in a Sorted Array"
   ]
  },
  {
   "cell_type": "code",
   "execution_count": null,
   "metadata": {},
   "outputs": [],
   "source": [
    "from collections import Counter\n",
    "class Solution:\n",
    "    def singleNonDuplicate(self, nums: List[int]) -> int:\n",
    "        Counts = Counter(nums)\n",
    "        res = list(Counts.keys())[list(Counts.values()).index(1)]\n",
    "        return res"
   ]
  },
  {
   "cell_type": "markdown",
   "metadata": {},
   "source": [
    "## Remove K Digits"
   ]
  },
  {
   "cell_type": "code",
   "execution_count": 23,
   "metadata": {},
   "outputs": [],
   "source": [
    "class Solution:\n",
    "    def removeKdigits(self, num: str, k: int) -> str:\n",
    "        if len(num) <= k: return '0'\n",
    "        \n",
    "        Stack = []\n",
    "        for _, digit in enumerate(num):\n",
    "            while k > 0 and Stack and int(Stack[-1]) > int(digit):\n",
    "                # remove the digit\n",
    "                Stack.pop()\n",
    "                k -= 1\n",
    "            Stack.append(digit)\n",
    "        \n",
    "        while k > 0:\n",
    "            Stack.pop()\n",
    "            k -= 1\n",
    "            \n",
    "        ans = ''.join(Stack).lstrip('0')\n",
    "        return ans if ans else '0'"
   ]
  },
  {
   "cell_type": "markdown",
   "metadata": {},
   "source": [
    "## Implement Trie (Prefix Tree)"
   ]
  },
  {
   "cell_type": "code",
   "execution_count": null,
   "metadata": {},
   "outputs": [],
   "source": [
    "class Trie:\n",
    "    def __init__(self, is_word=False):\n",
    "        \"\"\"\n",
    "        Initialize your data structure here.\n",
    "        \"\"\"\n",
    "        self.data = {}\n",
    "\n",
    "    def insert(self, word: str) -> None:\n",
    "        \"\"\"\n",
    "        Inserts a word into the trie.\n",
    "        \"\"\"\n",
    "        t = self.data\n",
    "        for c in word:\n",
    "            if c not in t: t[c] = {}\n",
    "            t = t[c]\n",
    "        t['-'] = True\n",
    "\n",
    "    def search(self, word: str) -> bool:\n",
    "        \"\"\"\n",
    "        Returns if the word is in the trie.\n",
    "        \"\"\"\n",
    "        t = self.data\n",
    "        for c in word:\n",
    "            if c not in t: return False\n",
    "            t = t[c]\n",
    "        return '-' in t\n",
    "\n",
    "    def startsWith(self, prefix: str) -> bool:\n",
    "        \"\"\"\n",
    "        Returns if there is any word in the trie that starts with the given prefix.\n",
    "        \"\"\"\n",
    "        t = self.data\n",
    "        for c in prefix:\n",
    "            if c not in t: return False\n",
    "            t = t[c]\n",
    "        return True"
   ]
  },
  {
   "cell_type": "markdown",
   "metadata": {},
   "source": [
    "## Maximum Sum Circular Subarray"
   ]
  },
  {
   "cell_type": "code",
   "execution_count": null,
   "metadata": {},
   "outputs": [],
   "source": [
    "class Solution:\n",
    "    def maxSubarraySumCircular(self, A: List[int]) -> int:\n",
    "        curr_max_sum = curr_min_sum = min_val = max_val = sumup = A[0]\n",
    "        for i in range(1,len(A)):\n",
    "            # max\n",
    "            curr_max_sum = A[i]+ max(0,curr_max_sum)\n",
    "            max_val = max(curr_max_sum, max_val)\n",
    "            \n",
    "            # min\n",
    "            curr_min_sum = A[i]+min(0,curr_min_sum) \n",
    "            min_val = min(curr_min_sum, min_val)\n",
    "            \n",
    "            sumup += A[i]\n",
    "        \n",
    "        if min_val == sumup:\n",
    "            return max_val\n",
    "        return max(max_val, sumup-min_val)\n",
    "                "
   ]
  },
  {
   "cell_type": "markdown",
   "metadata": {},
   "source": [
    "## Odd Even Linked List\n"
   ]
  },
  {
   "cell_type": "code",
   "execution_count": 2,
   "metadata": {},
   "outputs": [],
   "source": [
    "class ListNode:\n",
    "    def __init__(self, val=0, next=None):\n",
    "        self.val = val\n",
    "        self.next = next\n",
    "class Solution(object):\n",
    "    def oddEvenList(self, head):\n",
    "        if not head: return None\n",
    "        oddhead = head\n",
    "        evenhead = head.next\n",
    "        even = evenhead\n",
    "        while evenhead and evenhead.next :\n",
    "            oddhead.next = evenhead.next\n",
    "            oddhead = oddhead.next\n",
    "            evenhead.next = oddhead.next\n",
    "            evenhead = evenhead.next\n",
    "        oddhead.next = even\n",
    "        return head"
   ]
  },
  {
   "cell_type": "markdown",
   "metadata": {},
   "source": [
    "## Find All Anagrams in a String"
   ]
  },
  {
   "cell_type": "code",
   "execution_count": null,
   "metadata": {},
   "outputs": [],
   "source": [
    "from collections import Counter\n",
    "class Solution:\n",
    "    def findAnagrams(self, s: str, p: str) -> List[int]:\n",
    "        size_p=len(p)\n",
    "        size_s=len(s)\n",
    "        counted_p = Counter(p)\n",
    "        answer=[]\n",
    "        index = 0\n",
    "        while index<size_s-size_p+1:\n",
    "            if Counter(s[index:index+size_p]) == counted_p:\n",
    "                answer.append(index)\n",
    "            index += 1\n",
    "        return answer"
   ]
  },
  {
   "cell_type": "markdown",
   "metadata": {},
   "source": [
    "## Permutation in String"
   ]
  },
  {
   "cell_type": "code",
   "execution_count": 3,
   "metadata": {},
   "outputs": [],
   "source": [
    "from collections import Counter\n",
    "class Solution:\n",
    "    def checkInclusion(self, s1: str, s2: str) -> bool:\n",
    "        size_s1=len(s1)\n",
    "        size_s2=len(s2)\n",
    "        count_s1=Counter(s1)\n",
    "        for i in range(size_s2-size_s1+1):\n",
    "            if Counter(s2[i:i+size_s1])==count_s1:\n",
    "                return True\n",
    "        return False"
   ]
  },
  {
   "cell_type": "markdown",
   "metadata": {},
   "source": [
    "## Online Stock Span\n"
   ]
  },
  {
   "cell_type": "code",
   "execution_count": 4,
   "metadata": {},
   "outputs": [],
   "source": [
    "class StockSpanner:\n",
    "\n",
    "    def __init__(self):\n",
    "        self.stock = []\n",
    "        \n",
    "    def next(self, price: int) -> int:\n",
    "        span = 1\n",
    "        while self.stock and self.stock[-1][0] <= price:\n",
    "            _, prev = self.stock.pop()\n",
    "            span += prev\n",
    "        self.stock.append((price, span))\n",
    "        return span"
   ]
  },
  {
   "cell_type": "markdown",
   "metadata": {},
   "source": [
    "## Kth Smallest Element in a BST\n"
   ]
  },
  {
   "cell_type": "code",
   "execution_count": 6,
   "metadata": {},
   "outputs": [],
   "source": [
    "class TreeNode:\n",
    "    def __init__(self, val=0, left=None, right=None):\n",
    "        self.val = val\n",
    "        self.left = left\n",
    "        self.right = right\n",
    "class Solution:\n",
    "    def kthSmallest(self, root: TreeNode, k: int) -> int:\n",
    "        stack = []\n",
    "        node = root\n",
    "        while stack or node:\n",
    "            if node:\n",
    "                stack.append(node)\n",
    "                node = node.left\n",
    "            else:\n",
    "                k -= 1\n",
    "                node = stack.pop()\n",
    "                if not k:\n",
    "                    return node.val\n",
    "                node = node.right"
   ]
  },
  {
   "cell_type": "markdown",
   "metadata": {},
   "source": [
    "## Count Square Submatrices with All Ones"
   ]
  },
  {
   "cell_type": "code",
   "execution_count": 8,
   "metadata": {},
   "outputs": [],
   "source": [
    "import numpy as np\n",
    "class Solution:\n",
    "    def countSquares(self, matrix) -> int:\n",
    "        ans = 0\n",
    "        matrix = np.array(matrix)\n",
    "        for i in range(len(matrix)):\n",
    "            j = 0\n",
    "            while j < len(matrix[0]):\n",
    "                for k in range(1, min(len(matrix)-i, len(matrix[0])-j)+1):\n",
    "                    if np.sum(matrix[i:i+k, j:j+k]) == k**2:\n",
    "                        ans += 1\n",
    "                    else:\n",
    "                        break\n",
    "                j += 1\n",
    "        return ans"
   ]
  },
  {
   "cell_type": "markdown",
   "metadata": {},
   "source": [
    "## Sort Characters By Frequency"
   ]
  },
  {
   "cell_type": "code",
   "execution_count": 19,
   "metadata": {},
   "outputs": [],
   "source": [
    "from collections import Counter\n",
    "class Solution:\n",
    "    def frequencySort(self, s: str) -> str:\n",
    "        Counts=Counter(s)\n",
    "        if len(Counts) == len(s):\n",
    "            return s\n",
    "        keys = sorted(Counts, key=lambda x: Counts[x], reverse=True)\n",
    "        ans=''\n",
    "        for key in keys:\n",
    "            ans += key*Counts[key]\n",
    "        return ans"
   ]
  },
  {
   "cell_type": "markdown",
   "metadata": {},
   "source": [
    "## Interval List Intersections"
   ]
  },
  {
   "cell_type": "code",
   "execution_count": null,
   "metadata": {},
   "outputs": [],
   "source": [
    "class Solution:\n",
    "    def intervalIntersection(self, A: List[List[int]], B: List[List[int]]) -> List[List[int]]:\n",
    "        if not A or not B or A[-1][-1] < B[0][0] or B[-1][-1] < A[0][0]: return []\n",
    "        ans = []\n",
    "        i = -1\n",
    "        while i >= -len(A):\n",
    "            for j in range(len(B))[::-1]:\n",
    "                if B[j][-1] < A[i][0]:\n",
    "                    break\n",
    "                elif A[i][-1] < B[j][0]:\n",
    "                    continue\n",
    "                ans.append([max(A[i][0], B[j][0]), min(A[i][-1], B[j][-1])])\n",
    "            i -= 1\n",
    "        return ans[::-1]\n",
    "        "
   ]
  },
  {
   "cell_type": "markdown",
   "metadata": {},
   "source": [
    "## Construct Binary Search Tree from Preorder Traversal"
   ]
  },
  {
   "cell_type": "code",
   "execution_count": 2,
   "metadata": {},
   "outputs": [],
   "source": [
    "# Definition for a binary tree node.\n",
    "class TreeNode:\n",
    "    def __init__(self, x):\n",
    "        self.val = x\n",
    "        self.left = None\n",
    "        self.right = None\n",
    "\n",
    "class Solution:\n",
    "    def bstFromPreorder(self, preorder) -> TreeNode:\n",
    "        root = TreeNode(preorder[0])\n",
    "        Stack = [root]\n",
    "        for value in preorder[1:]:\n",
    "            if value < Stack[-1].val:\n",
    "                Stack[-1].left = TreeNode(value)\n",
    "                Stack.append(Stack[-1].left)\n",
    "            else:\n",
    "                while Stack and Stack[-1].val < value:\n",
    "                    last = Stack.pop()\n",
    "                last.right = TreeNode(value)\n",
    "                Stack.append(last.right)\n",
    "        return root"
   ]
  },
  {
   "cell_type": "code",
   "execution_count": null,
   "metadata": {},
   "outputs": [],
   "source": []
  }
 ],
 "metadata": {
  "kernelspec": {
   "display_name": "Python 3",
   "language": "python",
   "name": "python3"
  },
  "language_info": {
   "codemirror_mode": {
    "name": "ipython",
    "version": 3
   },
   "file_extension": ".py",
   "mimetype": "text/x-python",
   "name": "python",
   "nbconvert_exporter": "python",
   "pygments_lexer": "ipython3",
   "version": "3.7.6"
  }
 },
 "nbformat": 4,
 "nbformat_minor": 4
}
