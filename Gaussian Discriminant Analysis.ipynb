{
 "cells": [
  {
   "cell_type": "code",
   "execution_count": 25,
   "metadata": {},
   "outputs": [],
   "source": [
    "import numpy as np, pandas as pd"
   ]
  },
  {
   "cell_type": "code",
   "execution_count": 69,
   "metadata": {},
   "outputs": [],
   "source": [
    "class GDA(object):\n",
    "    \n",
    "    def __init__(self, features, target):\n",
    "        self.features=features\n",
    "        self.target=target\n",
    "        \n",
    "    def train(self):    \n",
    "        self.mu0=self.features.iloc[[i for i in range(self.target.shape[0]) if \\\n",
    "                                     self.target.iloc[i]==0.0]].mean()\n",
    "        self.mu1=self.features.iloc[[i for i in range(self.target.shape[0]) if \\\n",
    "                                     self.target.iloc[i]==1.0]].mean()\n",
    "        \n",
    "        self.phi=(1.0/self.target.shape[0])*self.target[self.target==1.0].count()\n",
    "        \n",
    "        sigma=np.matrix(np.zeros([self.features.shape[1], self.features.shape[1]]))\n",
    "        for i in range(self.target.shape[0]):\n",
    "            if self.target.iloc[i]==0:\n",
    "                sigma += np.dot(np.matrix(self.features.iloc[i, :]-self.mu0).T, \\\n",
    "                                np.matrix(self.features.iloc[i, :]-self.mu0))\n",
    "            else:\n",
    "                sigma += np.dot(np.matrix(self.features.iloc[i, :]-self.mu1).T,\\\n",
    "                                np.matrix(self.features.iloc[i, :]-self.mu1))\n",
    "        self.sigma=(1.0/self.target.shape[0])*sigma\n",
    "        \n",
    "    def P_y(self, y, phi):\n",
    "        return phi**y * (1-phi)**(1-y)\n",
    "    \n",
    "    def P_x_y(self, sigma, x, mu):\n",
    "        comp1 = 1.0/(np.sqrt((2*np.pi)**self.features.shape[1]) * np.sqrt(np.linalg.det(sigma)))\n",
    "        comp2 = float(np.exp(np.dot(-0.5*np.dot(x-mu, np.linalg.inv(sigma)), x-mu)))\n",
    "        return comp1*comp2\n",
    "        \n",
    "    def predict(self, X):\n",
    "        predictions=[]\n",
    "        for i in range(X.shape[0]):\n",
    "            Prob0=self.P_x_y(self.sigma, X.iloc[i, :], self.mu0)*self.P_y(0, self.phi)\n",
    "            Prob1=self.P_x_y(self.sigma, X.iloc[i, :], self.mu1)*self.P_y(1, self.phi)\n",
    "            if Prob0>Prob1:\n",
    "                predictions.append(0.0)\n",
    "            else:\n",
    "                predictions.append(1.0)\n",
    "        return np.array(predictions)\n",
    "            "
   ]
  },
  {
   "cell_type": "code",
   "execution_count": null,
   "metadata": {},
   "outputs": [],
   "source": []
  },
  {
   "cell_type": "code",
   "execution_count": 178,
   "metadata": {},
   "outputs": [
    {
     "name": "stdout",
     "output_type": "stream",
     "text": [
      "Train data is 10% of the data  (10, 5)\n",
      "Test data is 90% of the data  (90, 5)\n",
      "100% accuracy on the test set\n"
     ]
    }
   ],
   "source": [
    "from sklearn import datasets\n",
    "\n",
    "Iris=datasets.load_iris()\n",
    "data=Iris['data']\n",
    "Data=np.hstack([data, Iris['target'].reshape(-1,1)])\n",
    "Random=list(range(data.shape[0]))\n",
    "np.random.shuffle(Random)\n",
    "Data=Data[Random]\n",
    "Col=Iris['feature_names']\n",
    "Col.insert(len(Col), 'target')\n",
    "Data=pd.DataFrame(Data, columns=Col)\n",
    "Data.head()\n",
    "Data=Data[(Data['target']==0) | (Data['target']==1)]\n",
    "\n",
    "Train_data=Data.iloc[0:10]\n",
    "Test_data=Data.iloc[10:]\n",
    "print(\"Train data is 10% of the data \",Train_data.shape)\n",
    "print(\"Test data is 90% of the data \",Test_data.shape)\n",
    "print(\"100% accuracy on the test set\")"
   ]
  },
  {
   "cell_type": "code",
   "execution_count": 179,
   "metadata": {},
   "outputs": [
    {
     "name": "stdout",
     "output_type": "stream",
     "text": [
      "Accuracy:  100.0 %\n"
     ]
    }
   ],
   "source": [
    "GaussianIris=GDA(Train_data.iloc[:,:-1], Train_data.iloc[:,-1])\n",
    "\n",
    "GaussianIris.train()\n",
    "\n",
    "pred=GaussianIris.predict(Test_data.iloc[:,:-1])\n",
    "pred=pred.reshape(-1,1)\n",
    "print(\"Accuracy: \", (pred==np.array(Test_data.iloc[:,-1]).reshape(-1,1)).sum()/Test_data.iloc[:,-1].shape[0]*100, \"%\")"
   ]
  },
  {
   "cell_type": "code",
   "execution_count": null,
   "metadata": {},
   "outputs": [],
   "source": []
  },
  {
   "cell_type": "code",
   "execution_count": null,
   "metadata": {},
   "outputs": [],
   "source": []
  }
 ],
 "metadata": {
  "kernelspec": {
   "display_name": "Python 3",
   "language": "python",
   "name": "python3"
  },
  "language_info": {
   "codemirror_mode": {
    "name": "ipython",
    "version": 3
   },
   "file_extension": ".py",
   "mimetype": "text/x-python",
   "name": "python",
   "nbconvert_exporter": "python",
   "pygments_lexer": "ipython3",
   "version": "3.7.3"
  }
 },
 "nbformat": 4,
 "nbformat_minor": 2
}
