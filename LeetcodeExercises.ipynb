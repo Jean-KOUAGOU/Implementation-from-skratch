{
 "cells": [
  {
   "cell_type": "code",
   "execution_count": 3,
   "metadata": {},
   "outputs": [],
   "source": [
    "import numpy as np"
   ]
  },
  {
   "cell_type": "code",
   "execution_count": 4,
   "metadata": {},
   "outputs": [],
   "source": [
    "def plusOne(digits):\n",
    "        if len(digits) == 1:\n",
    "            if digits[0] == 9:\n",
    "                return [1, 0]\n",
    "            else:\n",
    "                digits[0] += 1\n",
    "                return digits\n",
    "        \n",
    "        if digits[-1] != 9:\n",
    "            digits[-1] += 1\n",
    "        else:\n",
    "            i = -1\n",
    "            while i > -len(digits):\n",
    "                digits[i] = 0\n",
    "                digits[i-1] += 1\n",
    "                i -= 1\n",
    "                if digits[i] != 10:\n",
    "                    break\n",
    "            if digits[0] == 10:\n",
    "                digits = [int(\" \".join(str(digits[0])).split()[0]), int(\" \".join(str(digits[0])).split()[1])] + digits[1:]\n",
    "        return digits\n",
    "        "
   ]
  },
  {
   "cell_type": "code",
   "execution_count": 13,
   "metadata": {},
   "outputs": [],
   "source": [
    "Dig = [1,9,9]"
   ]
  },
  {
   "cell_type": "code",
   "execution_count": 14,
   "metadata": {},
   "outputs": [
    {
     "data": {
      "text/plain": [
       "[2, 0, 0]"
      ]
     },
     "execution_count": 14,
     "metadata": {},
     "output_type": "execute_result"
    }
   ],
   "source": [
    "plusOne(Dig)"
   ]
  },
  {
   "cell_type": "code",
   "execution_count": 15,
   "metadata": {},
   "outputs": [],
   "source": [
    "def findDiagonalOrder(matrix):\n",
    "        if len(matrix) == 0:\n",
    "            return []\n",
    "        else:\n",
    "            N, M = len(matrix), len(matrix[0])\n",
    "            Traversal = []\n",
    "            Down = False\n",
    "            for n in range(N+M-1):\n",
    "                if Down:\n",
    "                    for c in range(n+1):\n",
    "                        if c >= N or n-c >= M:\n",
    "                            continue\n",
    "                        Traversal.append(matrix[c][n-c])\n",
    "                else:\n",
    "                    for c in range(n+1)[::-1]:\n",
    "                        if c >= N or n-c >= M:\n",
    "                            continue\n",
    "                        Traversal.append(matrix[c][n-c])\n",
    "                Down = not Down\n",
    "            return Traversal"
   ]
  },
  {
   "cell_type": "code",
   "execution_count": 16,
   "metadata": {},
   "outputs": [],
   "source": [
    "M=np.array([[2,3,-6,1], [39,-2,9.7, 3], [11,9,34, 100]])"
   ]
  },
  {
   "cell_type": "code",
   "execution_count": 17,
   "metadata": {},
   "outputs": [
    {
     "data": {
      "text/plain": [
       "[2.0, 3.0, 39.0, 11.0, -2.0, -6.0, 1.0, 9.7, 9.0, 34.0, 3.0, 100.0]"
      ]
     },
     "execution_count": 17,
     "metadata": {},
     "output_type": "execute_result"
    }
   ],
   "source": [
    "findDiagonalOrder(M)"
   ]
  },
  {
   "cell_type": "code",
   "execution_count": 18,
   "metadata": {},
   "outputs": [],
   "source": [
    "def longestCommonPrefix(strs):\n",
    "        if strs == [] or strs == [\"\"]:\n",
    "            return \"\"\n",
    "        if len(strs) == 1:\n",
    "            return strs[0]\n",
    "        prefix = \"\"\n",
    "        position = 0\n",
    "        while True:\n",
    "            if strs[0] == \"\":\n",
    "                return \"\"\n",
    "            item0 = strs[0]\n",
    "            if position < len(item0):\n",
    "                caracter = item0[position]\n",
    "            for item in strs:\n",
    "                if item == \"\" or item[0] == \"\":\n",
    "                    return \"\"\n",
    "                if position >= len(item) or item[position] != caracter:\n",
    "                    return prefix\n",
    "            prefix += caracter\n",
    "            position += 1"
   ]
  },
  {
   "cell_type": "code",
   "execution_count": null,
   "metadata": {},
   "outputs": [],
   "source": []
  },
  {
   "cell_type": "code",
   "execution_count": 19,
   "metadata": {},
   "outputs": [],
   "source": [
    "def twoSum1(numbers, target):\n",
    "        D={}\n",
    "        for i in range(len(numbers)):\n",
    "            if target - numbers[i] in D:\n",
    "                return [D[target - numbers[i]]+1, i+1]\n",
    "            D[numbers[i]]=i"
   ]
  },
  {
   "cell_type": "code",
   "execution_count": null,
   "metadata": {},
   "outputs": [],
   "source": []
  },
  {
   "cell_type": "code",
   "execution_count": 20,
   "metadata": {},
   "outputs": [],
   "source": [
    "def twoSum2(numbers, target):\n",
    "        i = 0\n",
    "        j = i+1\n",
    "        while numbers[i]  + numbers[j] != target:\n",
    "            while numbers[i]  + numbers[j] < target:\n",
    "                if j < len(numbers)-1:\n",
    "                    j += 1\n",
    "                else:\n",
    "                    break\n",
    "            if numbers[i]  + numbers[j] == target:\n",
    "                return [i+1, j+1]\n",
    "            i += 1\n",
    "            j = i+1\n",
    "        return [i+1, j+1]"
   ]
  },
  {
   "cell_type": "code",
   "execution_count": 22,
   "metadata": {},
   "outputs": [],
   "source": [
    "numbers = [-19,-10,4,389,394,419,429,529,576,618,619,714,802,1113,4223,6789]\n",
    "target = 6779"
   ]
  },
  {
   "cell_type": "code",
   "execution_count": 23,
   "metadata": {},
   "outputs": [
    {
     "data": {
      "text/plain": [
       "[2, 16]"
      ]
     },
     "execution_count": 23,
     "metadata": {},
     "output_type": "execute_result"
    }
   ],
   "source": [
    "twoSum1(numbers, target)"
   ]
  },
  {
   "cell_type": "code",
   "execution_count": 24,
   "metadata": {},
   "outputs": [
    {
     "data": {
      "text/plain": [
       "[2, 16]"
      ]
     },
     "execution_count": 24,
     "metadata": {},
     "output_type": "execute_result"
    }
   ],
   "source": [
    "twoSum2(numbers, target)"
   ]
  },
  {
   "cell_type": "code",
   "execution_count": null,
   "metadata": {},
   "outputs": [],
   "source": []
  }
 ],
 "metadata": {
  "kernelspec": {
   "display_name": "Python 3",
   "language": "python",
   "name": "python3"
  },
  "language_info": {
   "codemirror_mode": {
    "name": "ipython",
    "version": 3
   },
   "file_extension": ".py",
   "mimetype": "text/x-python",
   "name": "python",
   "nbconvert_exporter": "python",
   "pygments_lexer": "ipython3",
   "version": "3.7.6"
  }
 },
 "nbformat": 4,
 "nbformat_minor": 4
}
